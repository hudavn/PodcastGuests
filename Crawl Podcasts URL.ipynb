{
 "cells": [
  {
   "cell_type": "code",
   "execution_count": 1,
   "id": "b4b79df6",
   "metadata": {},
   "outputs": [],
   "source": [
    "from selenium import *\n",
    "from selenium.webdriver import Chrome\n",
    "from selenium.webdriver.chrome.options import Options\n",
    "import time"
   ]
  },
  {
   "cell_type": "code",
   "execution_count": 2,
   "id": "bb2fe58e",
   "metadata": {},
   "outputs": [],
   "source": [
    "driver = Chrome(executable_path=\"./chromedriver\")"
   ]
  },
  {
   "cell_type": "code",
   "execution_count": 3,
   "id": "a7c1535b",
   "metadata": {},
   "outputs": [],
   "source": [
    "def login():\n",
    "    username = \"goran@oscarhamilton.com\"\n",
    "    pwd = \"proplan123\"\n",
    "    url = \"https://podcastwise.com/login\"    \n",
    "    driver.get(url)\n",
    "    time.sleep(10)"
   ]
  },
  {
   "cell_type": "code",
   "execution_count": 4,
   "id": "e69d62f7",
   "metadata": {},
   "outputs": [],
   "source": [
    "def searchPodcasts():\n",
    "    f = open('urls1.txt', 'w')\n",
    "    page = 1\n",
    "    cnt = 0\n",
    "    \n",
    "    while page <= 20:\n",
    "        url = f\"https://podcastwise.com/app/search?cat=1321&page={page}\"\n",
    "        driver.get(url)\n",
    "        divs = driver.find_elements_by_xpath('//div[@class=\"space-x-4 md:flex md:items-center\"]')\n",
    "        cnt+=len(divs)\n",
    "        print(len(divs), cnt)\n",
    "        \n",
    "        for each in divs:\n",
    "#             print(each.find_element_by_xpath('./a').get_attribute('href'))\n",
    "            f.write(each.find_element_by_xpath('./a').get_attribute('href') + '\\n')\n",
    "    \n",
    "        page+=1\n",
    "    f.close()"
   ]
  },
  {
   "cell_type": "code",
   "execution_count": 5,
   "id": "d74d452f",
   "metadata": {},
   "outputs": [
    {
     "name": "stdout",
     "output_type": "stream",
     "text": [
      "25 25\n",
      "25 50\n",
      "25 75\n",
      "25 100\n",
      "25 125\n",
      "25 150\n",
      "25 175\n",
      "25 200\n",
      "25 225\n",
      "25 250\n",
      "25 275\n",
      "25 300\n",
      "25 325\n",
      "25 350\n",
      "25 375\n",
      "25 400\n",
      "25 425\n",
      "25 450\n",
      "25 475\n",
      "25 500\n"
     ]
    }
   ],
   "source": [
    "login()\n",
    "searchPodcasts()"
   ]
  },
  {
   "cell_type": "code",
   "execution_count": 7,
   "id": "e5abc0ae",
   "metadata": {},
   "outputs": [],
   "source": [
    "driver.close()"
   ]
  },
  {
   "cell_type": "code",
   "execution_count": null,
   "id": "1592be8a",
   "metadata": {},
   "outputs": [],
   "source": []
  }
 ],
 "metadata": {
  "kernelspec": {
   "display_name": "Python 3 (ipykernel)",
   "language": "python",
   "name": "python3"
  },
  "language_info": {
   "codemirror_mode": {
    "name": "ipython",
    "version": 3
   },
   "file_extension": ".py",
   "mimetype": "text/x-python",
   "name": "python",
   "nbconvert_exporter": "python",
   "pygments_lexer": "ipython3",
   "version": "3.8.8"
  }
 },
 "nbformat": 4,
 "nbformat_minor": 5
}
