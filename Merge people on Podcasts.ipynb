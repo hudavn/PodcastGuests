{
 "cells": [
  {
   "cell_type": "code",
   "execution_count": 1,
   "id": "fb40c79d",
   "metadata": {},
   "outputs": [],
   "source": [
    "import pandas as pd"
   ]
  },
  {
   "cell_type": "code",
   "execution_count": 16,
   "id": "c2abcea0",
   "metadata": {},
   "outputs": [],
   "source": [
    "f = open(\"compare.txt\", \"a\")\n",
    "content = {\n",
    "    'LINK': [],\n",
    "    'PERSON GETTING INTERVIEWED': [],\n",
    "    'PODCASTS': [],\n",
    "    'HOST': []\n",
    "}\n",
    "\n",
    "df = pd.read_csv('data.tsv', sep = '\\t').to_dict()\n",
    "for key in df.keys():\n",
    "    content[str(key)] = list(df[key].values())\n",
    "\n",
    "for each in content['PERSON GETTING INTERVIEWED']:\n",
    "    f.write(each)\n",
    "    f.write('\\n')\n",
    "    \n",
    "f.close()"
   ]
  },
  {
   "cell_type": "code",
   "execution_count": 15,
   "id": "955d112a",
   "metadata": {},
   "outputs": [],
   "source": [
    "f = open(\"compare.txt\", \"r\")\n",
    "li = f.read().split('\\n\\n')[:-1]\n",
    "f.close()\n",
    "\n",
    "f = open(\"compare.txt\", \"w\")\n",
    "for each in li:\n",
    "    f.write(each)\n",
    "    f.write('\\n')\n",
    "f.close()"
   ]
  },
  {
   "cell_type": "code",
   "execution_count": null,
   "id": "63bd0c89",
   "metadata": {},
   "outputs": [],
   "source": []
  }
 ],
 "metadata": {
  "kernelspec": {
   "display_name": "Python 3 (ipykernel)",
   "language": "python",
   "name": "python3"
  },
  "language_info": {
   "codemirror_mode": {
    "name": "ipython",
    "version": 3
   },
   "file_extension": ".py",
   "mimetype": "text/x-python",
   "name": "python",
   "nbconvert_exporter": "python",
   "pygments_lexer": "ipython3",
   "version": "3.8.8"
  }
 },
 "nbformat": 4,
 "nbformat_minor": 5
}
